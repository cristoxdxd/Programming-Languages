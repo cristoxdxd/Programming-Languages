{
  "cells": [
    {
      "cell_type": "markdown",
      "id": "continent-history",
      "metadata": {
        "id": "continent-history"
      },
      "source": [
        "# Programación Funcional\n",
        "\n",
        "Es un paradigma de programación basado en funciones rápidas, optimizadas y reutilizables."
      ]
    },
    {
      "cell_type": "markdown",
      "id": "facial-garden",
      "metadata": {
        "id": "facial-garden"
      },
      "source": [
        "## Funciones básicas\n",
        "\n",
        "Son funciones que son explícitamente definidas (def)"
      ]
    },
    {
      "cell_type": "code",
      "execution_count": 2,
      "id": "decimal-definition",
      "metadata": {
        "colab": {
          "base_uri": "https://localhost:8080/"
        },
        "id": "decimal-definition",
        "outputId": "6a71b28e-b7bc-4be2-9dc6-c524c5b12c65"
      },
      "outputs": [
        {
          "output_type": "stream",
          "name": "stdout",
          "text": [
            "[8, 16, 18, 20]\n"
          ]
        }
      ],
      "source": [
        "numeros = [4,8,9,10]\n",
        "\n",
        "def duplicarLista(Numeros: numeros):\n",
        "    listaDuplicada = []\n",
        "    for numero in numeros: \n",
        "        listaDuplicada.append(numero*2)\n",
        "    return listaDuplicada\n",
        "\n",
        "print(duplicarLista(numeros))   "
      ]
    },
    {
      "cell_type": "markdown",
      "id": "spiritual-asset",
      "metadata": {
        "id": "spiritual-asset"
      },
      "source": [
        "## Funciones basadas en expresiones (lamba)\n",
        "\n",
        "No se define explícitamente la función, mantenemos las entradas y salidas pero los hacemos a través de una expresión simbólica que representa la función que deseamos.\n",
        "\n",
        "\n",
        "```python\n",
        "(lambda: operación, datos)\n",
        "```"
      ]
    },
    {
      "cell_type": "code",
      "execution_count": 3,
      "id": "certain-jonathan",
      "metadata": {
        "colab": {
          "base_uri": "https://localhost:8080/"
        },
        "id": "certain-jonathan",
        "outputId": "733ac171-b0c5-490b-a564-0737315767ce"
      },
      "outputs": [
        {
          "output_type": "execute_result",
          "data": {
            "text/plain": [
              "[8, 16, 18, 20]"
            ]
          },
          "metadata": {},
          "execution_count": 3
        }
      ],
      "source": [
        "list(map(lambda n: n*2, numeros))"
      ]
    },
    {
      "cell_type": "markdown",
      "id": "occupied-caribbean",
      "metadata": {
        "id": "occupied-caribbean"
      },
      "source": [
        "## Funciones útiles\n",
        "\n",
        "Range y enumerate\n",
        "\n",
        "- **range:** permite generar un rango de números (último excluido)\n",
        "- **enumerate:** enumera elementos"
      ]
    },
    {
      "cell_type": "code",
      "execution_count": 4,
      "id": "given-italy",
      "metadata": {
        "colab": {
          "base_uri": "https://localhost:8080/"
        },
        "id": "given-italy",
        "outputId": "9f7e5574-b9fe-49c4-8de8-4f4179eac3d1"
      },
      "outputs": [
        {
          "output_type": "stream",
          "name": "stdout",
          "text": [
            "range(1, 5)\n",
            "[0, 1, 2, 3, 4]\n",
            "(0, 52.2)\n",
            "(1, 65.58)\n",
            "(2, -0.29)\n"
          ]
        }
      ],
      "source": [
        "rango = range(1,5)\n",
        "print(rango)\n",
        "rango2 = list(range(5))\n",
        "print(rango2)\n",
        "\n",
        "numeros2 = [52.2 ,65.58, -0.29]\n",
        "enumerate(numeros2)\n",
        "for enumeracion in enumerate(numeros2):\n",
        "    print(enumeracion)"
      ]
    },
    {
      "cell_type": "markdown",
      "id": "ordered-hypothesis",
      "metadata": {
        "id": "ordered-hypothesis"
      },
      "source": [
        "## Operaciones en la programación funcional \n",
        "\n",
        "Son operaciones reservadas que permiten aplicar expresiones de diferentes formas\n",
        "\n",
        "- **map:** aplica la operación sobre todos los elementos\n",
        "- **zip:** nos permite comprimir dos estructuras iterables\n",
        "- **filter:** permite filtrar datos basado en una condición\n",
        "- **reduce:** acumular valores y devolver un resultado"
      ]
    },
    {
      "cell_type": "code",
      "execution_count": 5,
      "id": "inside-transition",
      "metadata": {
        "colab": {
          "base_uri": "https://localhost:8080/"
        },
        "id": "inside-transition",
        "outputId": "2b77576b-62ab-4abd-e983-3a46f6c52dc3"
      },
      "outputs": [
        {
          "output_type": "stream",
          "name": "stdout",
          "text": [
            "[7225, 9025, 8836]\n",
            "[7225, 9025, 8836]\n",
            "[7225, 9025, 8836]\n"
          ]
        }
      ],
      "source": [
        "## Previamente\n",
        "\n",
        "def elevarCuadrado(item):\n",
        "    return item**2\n",
        "\n",
        "numeros3 = [85,95,94]\n",
        "elevados = []\n",
        "for i in numeros3:\n",
        "    elevados.append(elevarCuadrado(i))\n",
        "print(elevados)\n",
        "\n",
        "## Map\n",
        "print(list(map(elevarCuadrado,numeros3)))\n",
        "\n",
        "## Map bien hecho\n",
        "print(list(map(lambda x: x**2, numeros3)))"
      ]
    },
    {
      "cell_type": "code",
      "execution_count": 6,
      "id": "medium-cinema",
      "metadata": {
        "colab": {
          "base_uri": "https://localhost:8080/"
        },
        "id": "medium-cinema",
        "outputId": "48e7a490-e782-4b79-e492-cafbc6544f07"
      },
      "outputs": [
        {
          "output_type": "stream",
          "name": "stdout",
          "text": [
            "[(50, 100), (60, 200), (80, 300)]\n",
            "[(99, 100), (100, 200), (101, 300)]\n"
          ]
        }
      ],
      "source": [
        "listaA = [50,60,80,89]\n",
        "listaB = [100,200,300]\n",
        "tuplaC = (99,100,101)\n",
        "\n",
        "print(list(zip(listaA, listaB)))\n",
        "print(list(zip(tuplaC, listaB)))"
      ]
    },
    {
      "cell_type": "code",
      "execution_count": 7,
      "id": "absolute-television",
      "metadata": {
        "colab": {
          "base_uri": "https://localhost:8080/"
        },
        "id": "absolute-television",
        "outputId": "cb5b5f15-e2fc-4248-d1ca-080911c67906"
      },
      "outputs": [
        {
          "output_type": "stream",
          "name": "stdout",
          "text": [
            "['Anderson', 'ANdrés', 'Andrés2']\n",
            "['Anderson', 'ANdrés', 'Andrés2']\n"
          ]
        }
      ],
      "source": [
        "expresionEmpiezaA = lambda x: True if x.startswith('A') else False\n",
        "nombres = ['Anderson','ANdrés','Andrés2','Bryan','Cristo','Freddy','Janeth']\n",
        "print(list(filter(lambda y: expresionEmpiezaA(y), nombres)))\n",
        "print(list(filter(lambda x: True if x.startswith('A') else False, nombres)))"
      ]
    },
    {
      "cell_type": "code",
      "execution_count": 8,
      "id": "piano-discrimination",
      "metadata": {
        "colab": {
          "base_uri": "https://localhost:8080/"
        },
        "id": "piano-discrimination",
        "outputId": "a4edd498-44bd-4634-f66e-9c2f264d010c"
      },
      "outputs": [
        {
          "output_type": "stream",
          "name": "stdout",
          "text": [
            "28\n"
          ]
        }
      ],
      "source": [
        "from functools import reduce\n",
        "def acumulador(n1,n2):\n",
        "    return n1+n2\n",
        "print(reduce(acumulador, [2,5,6,7,8]))\n",
        "\n",
        "#((((2+5)+6)+7)+8)"
      ]
    },
    {
      "cell_type": "markdown",
      "id": "lyric-student",
      "metadata": {
        "id": "lyric-student"
      },
      "source": [
        "### 5. List Comprehension\n",
        "\n",
        "[x 'expresión para crear lista']\n",
        "\n",
        "\n",
        "[x for x in iterable]\n",
        "\n",
        "[x**2 for x in iterable]"
      ]
    },
    {
      "cell_type": "markdown",
      "id": "2f6cc1ee",
      "metadata": {
        "id": "2f6cc1ee"
      },
      "source": [
        "1. Creen una lista que tengo todos los numeros del 1 al 15 elevados al cuadrado"
      ]
    },
    {
      "cell_type": "code",
      "execution_count": 9,
      "id": "e4ad129c",
      "metadata": {
        "colab": {
          "base_uri": "https://localhost:8080/"
        },
        "id": "e4ad129c",
        "outputId": "29c86e02-835f-4782-b86c-5a2d15de2397"
      },
      "outputs": [
        {
          "output_type": "execute_result",
          "data": {
            "text/plain": [
              "[0, 1, 4, 9, 16, 25, 36, 49, 64, 81, 100, 121, 144, 169, 196, 225]"
            ]
          },
          "metadata": {},
          "execution_count": 9
        }
      ],
      "source": [
        "lista = [x**2 for x in range(16)]\n",
        "lista"
      ]
    },
    {
      "cell_type": "markdown",
      "id": "4430f460",
      "metadata": {
        "id": "4430f460"
      },
      "source": [
        "2. Vamos a tener una lista de valores y quiero crear una nueva lista la cual contenga aquellos valores que sena múltiplos de 5"
      ]
    },
    {
      "cell_type": "code",
      "execution_count": 10,
      "id": "70aa99a1",
      "metadata": {
        "colab": {
          "base_uri": "https://localhost:8080/"
        },
        "id": "70aa99a1",
        "outputId": "ed8197a9-c860-4d76-ed70-216cbfd80c76"
      },
      "outputs": [
        {
          "output_type": "execute_result",
          "data": {
            "text/plain": [
              "[0, 5, 15, 35, 50]"
            ]
          },
          "metadata": {},
          "execution_count": 10
        }
      ],
      "source": [
        "listaA = [0, 3, 5, 15, 17, 23, 35, 68, 71, 50]\n",
        "listaB = [x for x in listaA if x%5 == 0]\n",
        "listaB"
      ]
    },
    {
      "cell_type": "markdown",
      "id": "df241cbc",
      "metadata": {
        "id": "df241cbc"
      },
      "source": [
        "3. Sumar dos elementos de la misma posición de dos listas diferentes"
      ]
    },
    {
      "cell_type": "code",
      "execution_count": 11,
      "id": "741ee688",
      "metadata": {
        "colab": {
          "base_uri": "https://localhost:8080/"
        },
        "id": "741ee688",
        "outputId": "ce7f11e3-5571-4d72-c4ea-d01ac7f73c3c"
      },
      "outputs": [
        {
          "output_type": "stream",
          "name": "stdout",
          "text": [
            "[12, 12, 20, 42, 86]\n",
            "[12, 11, 20, 42, 86]\n"
          ]
        },
        {
          "output_type": "execute_result",
          "data": {
            "text/plain": [
              "[12, 11, 20, 42, 86]"
            ]
          },
          "metadata": {},
          "execution_count": 11
        }
      ],
      "source": [
        "listaC = [8, 7, 12, 16, 85]\n",
        "listaD = [4, 4, 8, 26, 1]\n",
        "listaE = [x+y for x in listaC for y in listaD if listaC.index(x) == listaD.index(y)]\n",
        "print(listaE)\n",
        "listaF = [ listaC[i] + listaD[i] for i in range(len(listaC))]\n",
        "print(listaF)\n",
        "\n",
        "# Otra solución \n",
        "listaH = list(map(sum, zip(listaC, listaD)))\n",
        "listaH\n"
      ]
    },
    {
      "cell_type": "markdown",
      "id": "functional-insulation",
      "metadata": {
        "id": "functional-insulation"
      },
      "source": [
        "### 6.Exec y eval"
      ]
    },
    {
      "cell_type": "code",
      "execution_count": 12,
      "id": "upper-apple",
      "metadata": {
        "colab": {
          "base_uri": "https://localhost:8080/"
        },
        "id": "upper-apple",
        "outputId": "31be5dd4-22d0-410d-b938-548356d9c4db"
      },
      "outputs": [
        {
          "output_type": "execute_result",
          "data": {
            "text/plain": [
              "25.0"
            ]
          },
          "metadata": {},
          "execution_count": 12
        }
      ],
      "source": [
        "# Ejecutar un calculo a partir de una dependencia\n",
        "valores = {'y': 100, 'z':5}\n",
        "exec('x=(y+25)/z',valores)\n",
        "valores['x']"
      ]
    },
    {
      "cell_type": "code",
      "execution_count": 13,
      "id": "e26d89df",
      "metadata": {
        "colab": {
          "base_uri": "https://localhost:8080/"
        },
        "id": "e26d89df",
        "outputId": "bfd0a2e3-9b40-44d0-8281-fa803907289a"
      },
      "outputs": [
        {
          "output_type": "execute_result",
          "data": {
            "text/plain": [
              "8"
            ]
          },
          "metadata": {},
          "execution_count": 13
        }
      ],
      "source": [
        "# únicamente evaluar en una expresión\n",
        "x, y = 2,3\n",
        "eval('2**x+y+1')"
      ]
    },
    {
      "cell_type": "markdown",
      "id": "20ca9dff",
      "metadata": {
        "id": "20ca9dff"
      },
      "source": [
        "### 7.Decorators\n",
        "\n",
        "Una función que devuelve otra función"
      ]
    },
    {
      "cell_type": "code",
      "execution_count": 14,
      "id": "064269b6",
      "metadata": {
        "colab": {
          "base_uri": "https://localhost:8080/",
          "height": 35
        },
        "id": "064269b6",
        "outputId": "a8da377e-280f-46c6-defa-42568ad3e2f9"
      },
      "outputs": [
        {
          "output_type": "execute_result",
          "data": {
            "text/plain": [
              "'Hola'"
            ],
            "application/vnd.google.colaboratory.intrinsic+json": {
              "type": "string"
            }
          },
          "metadata": {},
          "execution_count": 14
        }
      ],
      "source": [
        "def saludar():\n",
        "    def hablar():\n",
        "        return 'Hola'\n",
        "    return hablar\n",
        "saludo = saludar()\n",
        "saludo()"
      ]
    },
    {
      "cell_type": "markdown",
      "id": "e44cc6a8",
      "metadata": {
        "id": "e44cc6a8"
      },
      "source": [
        "Podemos crear decoradores"
      ]
    },
    {
      "cell_type": "code",
      "execution_count": 15,
      "id": "d07b75d7",
      "metadata": {
        "colab": {
          "base_uri": "https://localhost:8080/",
          "height": 35
        },
        "id": "d07b75d7",
        "outputId": "80bd2f1c-94d0-4a75-f202-bdae413b6fe9"
      },
      "outputs": [
        {
          "output_type": "execute_result",
          "data": {
            "text/plain": [
              "'SALUDANDOA ANDO...'"
            ],
            "application/vnd.google.colaboratory.intrinsic+json": {
              "type": "string"
            }
          },
          "metadata": {},
          "execution_count": 15
        }
      ],
      "source": [
        "def hacerMayuscula(funcion):\n",
        "    def funcionar():\n",
        "        f = funcion()\n",
        "        ejecutar = f.upper()\n",
        "        return ejecutar\n",
        "    return funcionar\n",
        "\n",
        "@hacerMayuscula\n",
        "def saludar2():\n",
        "    return 'Saludandoa ando...'\n",
        "\n",
        "saludar2()"
      ]
    },
    {
      "cell_type": "markdown",
      "id": "0448163c",
      "metadata": {
        "id": "0448163c"
      },
      "source": [
        "# Ejercicios"
      ]
    },
    {
      "cell_type": "markdown",
      "id": "d2c5fdc6",
      "metadata": {
        "id": "d2c5fdc6"
      },
      "source": [
        "1. Dadas las listas C y D, se pide crear una nueva lista en la que sus elemntos sean de la siguente forma:\n",
        "   \n",
        "   [(x**y+89.5)/(x-25)], \n",
        "\n",
        "   donde x es el elemnto de la lista C, y elemnto de la lista D"
      ]
    },
    {
      "cell_type": "code",
      "execution_count": 16,
      "id": "a4c8d81a",
      "metadata": {
        "colab": {
          "base_uri": "https://localhost:8080/"
        },
        "id": "a4c8d81a",
        "outputId": "d1ea035e-9ab6-40cc-9150-4f6e1c9e14a6"
      },
      "outputs": [
        {
          "output_type": "execute_result",
          "data": {
            "text/plain": [
              "[-246.2058823529412,\n",
              " -246.2058823529412,\n",
              " -33075521.96153846,\n",
              " -2.2536010670724077e+30,\n",
              " 2.908333333333333]"
            ]
          },
          "metadata": {},
          "execution_count": 16
        }
      ],
      "source": [
        "C = [8, 7, 12, 16, 85]\n",
        "D = [4, 4, 8, 26, 1]\n",
        "\n",
        "resultado = [ eval('(x**y+89.5)/(x-25)') for x in listaC for y in listaD if listaC.index(x) == listaD.index(y)]\n",
        "resultado"
      ]
    },
    {
      "cell_type": "markdown",
      "id": "956f05d1",
      "metadata": {
        "id": "956f05d1"
      },
      "source": [
        "2. ¿Cómo ordenar una lista con elementos de diferente tipo?"
      ]
    },
    {
      "cell_type": "code",
      "execution_count": 17,
      "id": "23304062",
      "metadata": {
        "colab": {
          "base_uri": "https://localhost:8080/"
        },
        "id": "23304062",
        "outputId": "8944ac9c-e86e-4ee5-e2b0-8f0a452486a2"
      },
      "outputs": [
        {
          "output_type": "stream",
          "name": "stdout",
          "text": [
            "[(3, 56), (2, 60), (6, 100), (5, 300)]\n",
            "[(0, True), (1, 'Zanahoria'), (4, 'Horario'), (3, 56), (2, 60), (6, 100), (5, 300)]\n"
          ]
        }
      ],
      "source": [
        "listaV = [True, 'Zanahoria',60,56, 'Horario',300,100]\n",
        "\n",
        "# Boolean, Strings, Number\n",
        "listaV = list(enumerate(listaV))\n",
        "#listaV.sort()\n",
        "listaV.sort(key= lambda x: x[0])\n",
        "\n",
        "listaAux = [x for x in listaV if type(x[1]) == int]\n",
        "listaAux.sort(key= lambda x: x[1])\n",
        "print(listaAux)\n",
        "\n",
        "listaResultado = [ e for e in listaV if e not in listaAux ]\n",
        "for o in listaAux: \n",
        "    listaResultado.append(o)\n",
        "print(listaResultado)    "
      ]
    },
    {
      "cell_type": "markdown",
      "id": "806972d8",
      "metadata": {
        "id": "806972d8"
      },
      "source": [
        "3. Dada una lista M, retornar una nueva lista la cual tenga únicamente los números que sean múltiplos de 5 y tambipen sean multiplos de 2"
      ]
    },
    {
      "cell_type": "code",
      "execution_count": 18,
      "id": "eaa8911c",
      "metadata": {
        "colab": {
          "base_uri": "https://localhost:8080/"
        },
        "id": "eaa8911c",
        "outputId": "7ef49602-cd69-4b7c-95ca-69880ca827aa"
      },
      "outputs": [
        {
          "output_type": "stream",
          "name": "stdout",
          "text": [
            "[30, 20, 40]\n"
          ]
        }
      ],
      "source": [
        "M = [30, 3, 15, 25, 20, 40, 7, 11, 13, 2]\n",
        "print(list(filter(lambda x: x%5==0 and x%2==0, M)))\n"
      ]
    },
    {
      "cell_type": "markdown",
      "id": "b62fd0f0",
      "metadata": {
        "id": "b62fd0f0"
      },
      "source": [
        "4. Me devuelvan la serie de fibonacci hasta un número"
      ]
    },
    {
      "cell_type": "code",
      "execution_count": 19,
      "id": "eeb7d12d",
      "metadata": {
        "colab": {
          "base_uri": "https://localhost:8080/"
        },
        "id": "eeb7d12d",
        "outputId": "ad0d17fb-94a0-47bf-92db-0bcd2da40ef5"
      },
      "outputs": [
        {
          "output_type": "stream",
          "name": "stdout",
          "text": [
            "[0, 1, 1, 2, 3]\n"
          ]
        }
      ],
      "source": [
        "from functools import reduce\n",
        "\n",
        "fib = lambda n: reduce(lambda x, o: x+[x[-1]+x[-2]], range(n-2), [0, 1]) \n",
        "  \n",
        "print(fib(5)) "
      ]
    },
    {
      "cell_type": "code",
      "execution_count": 20,
      "id": "17da3517",
      "metadata": {
        "colab": {
          "base_uri": "https://localhost:8080/"
        },
        "id": "17da3517",
        "outputId": "27cc033c-31e8-4f60-997c-0b1edec0a4aa"
      },
      "outputs": [
        {
          "output_type": "stream",
          "name": "stdout",
          "text": [
            "[2, 3, 5, 7, 11, 13, 17, 19, 23, 29, 31, 37, 41, 43, 47, 53, 59, 61, 67, 71, 73, 79, 83, 89, 97]\n"
          ]
        }
      ],
      "source": [
        "\n",
        "nums = range(2, 100)\n",
        "for i in range(2, 10):\n",
        "    nums = list(filter(lambda x: x == i or x % i, nums))\n",
        "print(nums)"
      ]
    }
  ],
  "metadata": {
    "kernelspec": {
      "display_name": "Python 3 (ipykernel)",
      "language": "python",
      "name": "python3"
    },
    "language_info": {
      "codemirror_mode": {
        "name": "ipython",
        "version": 3
      },
      "file_extension": ".py",
      "mimetype": "text/x-python",
      "name": "python",
      "nbconvert_exporter": "python",
      "pygments_lexer": "ipython3",
      "version": "3.11.3"
    },
    "colab": {
      "provenance": []
    }
  },
  "nbformat": 4,
  "nbformat_minor": 5
}